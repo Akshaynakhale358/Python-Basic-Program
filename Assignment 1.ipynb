{
 "cells": [
  {
   "cell_type": "code",
   "execution_count": null,
   "id": "76173316",
   "metadata": {},
   "outputs": [],
   "source": [
    "1.\tWrite a Python program to print \"Hello Python\"?\n",
    "---->"
   ]
  },
  {
   "cell_type": "code",
   "execution_count": 1,
   "id": "7207d0ff",
   "metadata": {},
   "outputs": [
    {
     "name": "stdout",
     "output_type": "stream",
     "text": [
      "Hello Python\n"
     ]
    }
   ],
   "source": [
    "print(\"Hello Python\")"
   ]
  },
  {
   "cell_type": "code",
   "execution_count": null,
   "id": "62c262f1",
   "metadata": {},
   "outputs": [],
   "source": [
    "2.\tWrite a Python program to do arithmetical operations addition and division.?"
   ]
  },
  {
   "cell_type": "code",
   "execution_count": 3,
   "id": "b4bcc83f",
   "metadata": {},
   "outputs": [
    {
     "name": "stdout",
     "output_type": "stream",
     "text": [
      "Enter the value of x: 10\n",
      "Enter the value of y: 20\n",
      "30\n",
      "0.5\n"
     ]
    }
   ],
   "source": [
    "x=int(input(\"Enter the value of x: \"))\n",
    "y=int(input(\"Enter the value of y: \"))\n",
    "a=x+y\n",
    "b=x/y\n",
    "print(\"Addition is : \", a)\n",
    "print(\"Division is : \", b)"
   ]
  },
  {
   "cell_type": "code",
   "execution_count": null,
   "id": "95d11c7e",
   "metadata": {},
   "outputs": [],
   "source": [
    "3.\tWrite a Python program to find the area of a triangle?"
   ]
  },
  {
   "cell_type": "code",
   "execution_count": 6,
   "id": "3a965cc8",
   "metadata": {},
   "outputs": [
    {
     "name": "stdout",
     "output_type": "stream",
     "text": [
      "Enter the value of base in cm : 12\n",
      "Enter the value of height in cm : 15\n",
      "90.0\n"
     ]
    }
   ],
   "source": [
    "Base=int(input(\"Enter the value of base in cm : \"))\n",
    "Height=int(input(\"Enter the value of height in cm : \"))\n",
    "Area = 1/2 * Base * Height\n",
    "print(Area)"
   ]
  },
  {
   "cell_type": "code",
   "execution_count": null,
   "id": "c48dbe39",
   "metadata": {},
   "outputs": [],
   "source": [
    "4.\tWrite a Python program to swap two variables?"
   ]
  },
  {
   "cell_type": "code",
   "execution_count": 7,
   "id": "93b2c7b9",
   "metadata": {},
   "outputs": [
    {
     "name": "stdout",
     "output_type": "stream",
     "text": [
      "Enter the value of x: 2\n",
      "Enter the value of y: 3\n",
      "3 2\n"
     ]
    }
   ],
   "source": [
    "x=int(input(\"Enter the value of x: \"))\n",
    "y=int(input(\"Enter the value of y: \"))\n",
    "a=x\n",
    "x=y\n",
    "y=a\n",
    "print(x, y)"
   ]
  },
  {
   "cell_type": "code",
   "execution_count": null,
   "id": "fbdad715",
   "metadata": {},
   "outputs": [],
   "source": [
    "5.\tWrite a Python program to generate a random number?"
   ]
  },
  {
   "cell_type": "code",
   "execution_count": 17,
   "id": "60eb620f",
   "metadata": {},
   "outputs": [
    {
     "name": "stdout",
     "output_type": "stream",
     "text": [
      "0.7296651612335614\n"
     ]
    }
   ],
   "source": [
    "import random\n",
    "a= random.random()\n",
    "print(a)"
   ]
  },
  {
   "cell_type": "code",
   "execution_count": null,
   "id": "d4d7f30c",
   "metadata": {},
   "outputs": [],
   "source": []
  }
 ],
 "metadata": {
  "kernelspec": {
   "display_name": "Python 3",
   "language": "python",
   "name": "python3"
  },
  "language_info": {
   "codemirror_mode": {
    "name": "ipython",
    "version": 3
   },
   "file_extension": ".py",
   "mimetype": "text/x-python",
   "name": "python",
   "nbconvert_exporter": "python",
   "pygments_lexer": "ipython3",
   "version": "3.8.8"
  }
 },
 "nbformat": 4,
 "nbformat_minor": 5
}
