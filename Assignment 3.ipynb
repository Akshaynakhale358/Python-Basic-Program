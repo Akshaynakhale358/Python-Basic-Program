{
 "cells": [
  {
   "cell_type": "code",
   "execution_count": null,
   "id": "1c604622",
   "metadata": {},
   "outputs": [],
   "source": [
    "1.\tWrite a Python Program to Check if a Number is Positive, Negative or Zero?"
   ]
  },
  {
   "cell_type": "code",
   "execution_count": null,
   "id": "692c39f1",
   "metadata": {},
   "outputs": [],
   "source": [
    "x=int(input('Enter a number : '))\n",
    "if (x<0):\n",
    "    print('The Number is Negative')\n",
    "elif (x>0):\n",
    "    print('The Number is Positive')\n",
    "else:\n",
    "    print('The Number is Zero')"
   ]
  },
  {
   "cell_type": "code",
   "execution_count": null,
   "id": "25f3459d",
   "metadata": {},
   "outputs": [],
   "source": [
    "2.\tWrite a Python Program to Check if a Number is Odd or Even?"
   ]
  },
  {
   "cell_type": "code",
   "execution_count": null,
   "id": "21bc179c",
   "metadata": {},
   "outputs": [],
   "source": [
    "x=int(input('Enter a number : '))\n",
    "if (x%2==0):\n",
    "    print('The Number is Even')\n",
    "else:\n",
    "    print('The Number is Odd')\n",
    "    "
   ]
  },
  {
   "cell_type": "code",
   "execution_count": null,
   "id": "daafd8c1",
   "metadata": {},
   "outputs": [],
   "source": [
    "3.\tWrite a Python Program to Check Leap Year?"
   ]
  },
  {
   "cell_type": "code",
   "execution_count": null,
   "id": "435548f3",
   "metadata": {},
   "outputs": [],
   "source": [
    "x=int(input('Enter a Year : '))\n",
    "if (x%4==0):\n",
    "    print(x,'The Number is Leap year.')\n",
    "else:\n",
    "    print(x,\"This year is not Leap Yea.r\")"
   ]
  },
  {
   "cell_type": "code",
   "execution_count": null,
   "id": "43bc46db",
   "metadata": {},
   "outputs": [],
   "source": [
    "4.\tWrite a Python Program to Check Prime Number?"
   ]
  },
  {
   "cell_type": "code",
   "execution_count": null,
   "id": "3bba1944",
   "metadata": {},
   "outputs": [],
   "source": [
    "x = int(input(\"Enter any number: \"))\n",
    "if (x > 1):\n",
    "    for i in range(2, x):\n",
    "        if (x % i) == 0:\n",
    "            print(x, \"is not a prime number\")\n",
    "            break\n",
    "    else:\n",
    "        print(x, \"is a prime number\")\n",
    "else:\n",
    "    print(x, \"is not a prime number\")"
   ]
  },
  {
   "cell_type": "code",
   "execution_count": null,
   "id": "ce076161",
   "metadata": {},
   "outputs": [],
   "source": [
    "5.\tWrite a Python Program to Print all Prime Numbers in an Interval of 1-10000?"
   ]
  },
  {
   "cell_type": "code",
   "execution_count": 6,
   "id": "3dbe9080",
   "metadata": {},
   "outputs": [
    {
     "name": "stdout",
     "output_type": "stream",
     "text": [
      "2  3  5  7  11  13  17  19  23  29  31  37  41  43  47  53  59  61  67  71  73  79  83  89  97  101  103  107  109  113  127  131  137  139  149  151  157  163  167  173  179  181  191  193  197  199  211  223  227  229  233  239  241  251  257  263  269  271  277  281  283  293  307  311  313  317  331  337  347  349  353  359  367  373  379  383  389  397  401  409  419  421  431  433  439  443  449  457  461  463  467  479  487  491  499  503  509  521  523  541  547  557  563  569  571  577  587  593  599  601  607  613  617  619  631  641  643  647  653  659  661  673  677  683  691  701  709  719  727  733  739  743  751  757  761  769  773  787  797  809  811  821  823  827  829  839  853  857  859  863  877  881  883  887  907  911  919  929  937  941  947  953  967  971  977  983  991  997  "
     ]
    }
   ],
   "source": [
    "for num in range(1,1000):\n",
    "    if num > 1:\n",
    "        for i in range(2, num):\n",
    "            if (num % i) == 0:\n",
    "                break\n",
    "        else:\n",
    "            print(num, \" \",end=\"\")"
   ]
  },
  {
   "cell_type": "code",
   "execution_count": null,
   "id": "598dcc4e",
   "metadata": {},
   "outputs": [],
   "source": []
  },
  {
   "cell_type": "code",
   "execution_count": null,
   "id": "0dc274b2",
   "metadata": {},
   "outputs": [],
   "source": []
  }
 ],
 "metadata": {
  "kernelspec": {
   "display_name": "Python 3",
   "language": "python",
   "name": "python3"
  },
  "language_info": {
   "codemirror_mode": {
    "name": "ipython",
    "version": 3
   },
   "file_extension": ".py",
   "mimetype": "text/x-python",
   "name": "python",
   "nbconvert_exporter": "python",
   "pygments_lexer": "ipython3",
   "version": "3.8.8"
  }
 },
 "nbformat": 4,
 "nbformat_minor": 5
}
