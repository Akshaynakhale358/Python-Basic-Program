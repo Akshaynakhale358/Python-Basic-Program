{
 "cells": [
  {
   "cell_type": "code",
   "execution_count": null,
   "id": "36f093d5",
   "metadata": {},
   "outputs": [],
   "source": [
    "1.\tWrite a Python Program to Find the Factorial of a Number?"
   ]
  },
  {
   "cell_type": "code",
   "execution_count": 1,
   "id": "75e71b63",
   "metadata": {},
   "outputs": [
    {
     "name": "stdout",
     "output_type": "stream",
     "text": [
      "Enter a number : 3\n",
      "The factorial of 3 is 6\n"
     ]
    }
   ],
   "source": [
    "x=int(input('Enter a number : '))\n",
    "fact=1\n",
    "if (x<0):\n",
    "    print(x,': Factorial of negative no. not exist')\n",
    "elif (x==0):\n",
    "    print(x,': The factorial of 0 is 1')\n",
    "else:\n",
    "    for i in range (1, x+1):\n",
    "        fact=fact*i\n",
    "    print(\"The factorial of\",x,\"is\",fact)"
   ]
  },
  {
   "cell_type": "code",
   "execution_count": null,
   "id": "8b971e54",
   "metadata": {},
   "outputs": [],
   "source": [
    "2.\tWrite a Python Program to Display the multiplication Table?\n"
   ]
  },
  {
   "cell_type": "code",
   "execution_count": 2,
   "id": "478c6e48",
   "metadata": {},
   "outputs": [
    {
     "name": "stdout",
     "output_type": "stream",
     "text": [
      "Enter a number : 3\n",
      "3\n",
      "6\n",
      "9\n",
      "12\n",
      "15\n",
      "18\n",
      "21\n",
      "24\n",
      "27\n",
      "30\n"
     ]
    }
   ],
   "source": [
    "x=int(input('Enter a number : '))\n",
    "if (x<0):\n",
    "    print(x,': Table of negative no. not exist')\n",
    "else:\n",
    "    for i in range (1, 10+1):\n",
    "        a=x*i\n",
    "        print(a)\n",
    "    "
   ]
  },
  {
   "cell_type": "code",
   "execution_count": null,
   "id": "da5ebd70",
   "metadata": {},
   "outputs": [],
   "source": [
    "3.\tWrite a Python Program to Print the Fibonacci sequence?"
   ]
  },
  {
   "cell_type": "code",
   "execution_count": 3,
   "id": "5302e427",
   "metadata": {},
   "outputs": [
    {
     "name": "stdout",
     "output_type": "stream",
     "text": [
      "Enter a number : 3\n",
      "1\n",
      "2\n",
      "3\n",
      "5\n"
     ]
    }
   ],
   "source": [
    "x=int(input('Enter a number : '))\n",
    "a=1\n",
    "b=1\n",
    "for i in range (0, x+1):\n",
    "    a,b=b,a+b\n",
    "    print(a)  "
   ]
  },
  {
   "cell_type": "code",
   "execution_count": null,
   "id": "3ab41200",
   "metadata": {},
   "outputs": [],
   "source": [
    "4.\tWrite a Python Program to Check Armstrong Number?"
   ]
  },
  {
   "cell_type": "code",
   "execution_count": 4,
   "id": "29686948",
   "metadata": {},
   "outputs": [
    {
     "name": "stdout",
     "output_type": "stream",
     "text": [
      "Enter the number:157\n",
      "The Number is not Armstrong.\n"
     ]
    }
   ],
   "source": [
    "x=int(input(\"Enter the number:\"))\n",
    "a=x\n",
    "b=0\n",
    "while (x > 0):\n",
    "    d=x % 10\n",
    "    b=b + d ** 3\n",
    "    x=x // 10\n",
    "if a==b:\n",
    "    print(\"The Number is Armstrong.\")\n",
    "else:\n",
    "    print(\"The Number is not Armstrong.\")"
   ]
  },
  {
   "cell_type": "code",
   "execution_count": null,
   "id": "2c91c840",
   "metadata": {},
   "outputs": [],
   "source": [
    "5.\tWrite a Python Program to Find Armstrong Number in an Interval?"
   ]
  },
  {
   "cell_type": "code",
   "execution_count": 5,
   "id": "20e0c1d6",
   "metadata": {},
   "outputs": [
    {
     "name": "stdout",
     "output_type": "stream",
     "text": [
      "Enter the number x:10\n",
      "Enter the number y:1000\n",
      "153\n",
      "370\n",
      "371\n",
      "407\n"
     ]
    }
   ],
   "source": [
    "x=int(input(\"Enter the number x:\"))\n",
    "z=int(input(\"Enter the number y:\"))\n",
    "for i in range (x,z):\n",
    "    a=0\n",
    "    b=i    \n",
    "    while b > 0:\n",
    "        d = b % 10\n",
    "        a = a+ d ** 3\n",
    "        b = b // 10\n",
    "    if i == a:\n",
    "        print(i)"
   ]
  },
  {
   "cell_type": "code",
   "execution_count": null,
   "id": "72da1a9f",
   "metadata": {},
   "outputs": [],
   "source": [
    "6.\tWrite a Python Program to Find the Sum of Natural Numbers?"
   ]
  },
  {
   "cell_type": "code",
   "execution_count": 9,
   "id": "32eab49d",
   "metadata": {},
   "outputs": [
    {
     "name": "stdout",
     "output_type": "stream",
     "text": [
      "Enter the number x:15\n",
      "15 The Sum of Natural Numbers : 120.0\n"
     ]
    }
   ],
   "source": [
    "x=int(input(\"Enter the number x:\"))\n",
    "if (x<0):\n",
    "    print(\"Enter the valid number\")\n",
    "else:\n",
    "    w=x*(x+1)/2\n",
    "    print(x, \"The Sum of Natural Numbers :\",w)"
   ]
  },
  {
   "cell_type": "code",
   "execution_count": null,
   "id": "2b7a58f1",
   "metadata": {},
   "outputs": [],
   "source": []
  }
 ],
 "metadata": {
  "kernelspec": {
   "display_name": "Python 3",
   "language": "python",
   "name": "python3"
  },
  "language_info": {
   "codemirror_mode": {
    "name": "ipython",
    "version": 3
   },
   "file_extension": ".py",
   "mimetype": "text/x-python",
   "name": "python",
   "nbconvert_exporter": "python",
   "pygments_lexer": "ipython3",
   "version": "3.8.8"
  }
 },
 "nbformat": 4,
 "nbformat_minor": 5
}
