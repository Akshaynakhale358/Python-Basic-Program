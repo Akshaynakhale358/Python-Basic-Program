{
 "cells": [
  {
   "cell_type": "code",
   "execution_count": null,
   "id": "d6261992",
   "metadata": {},
   "outputs": [],
   "source": [
    "1.\tWrite a Python Program to Find LCM?"
   ]
  },
  {
   "cell_type": "code",
   "execution_count": 31,
   "id": "765b9a06",
   "metadata": {},
   "outputs": [
    {
     "name": "stdout",
     "output_type": "stream",
     "text": [
      "Enter a number x : 12\n",
      "Enter a number y : 28\n",
      "84\n",
      "84\n"
     ]
    }
   ],
   "source": [
    "x = int(input(\"Enter a number x : \"))\n",
    "z = int(input(\"Enter a number y : \"))\n",
    "if(x > z ):\n",
    "    max= x\n",
    "else:\n",
    "    max= z\n",
    "while(True):\n",
    "    if(max % x == 0 and max % z == 0):   \n",
    "        print(max)\n",
    "        break\n",
    "    else:\n",
    "        max= max+ 1\n",
    "print(max)"
   ]
  },
  {
   "cell_type": "code",
   "execution_count": null,
   "id": "7313bf1c",
   "metadata": {},
   "outputs": [],
   "source": [
    "2.\tWrite a Python Program to Find HCF?"
   ]
  },
  {
   "cell_type": "code",
   "execution_count": 32,
   "id": "b197537c",
   "metadata": {},
   "outputs": [
    {
     "name": "stdout",
     "output_type": "stream",
     "text": [
      "Enter a number x : 12\n",
      "Enter a number y : 28\n",
      "4\n"
     ]
    }
   ],
   "source": [
    "x = int(input(\"Enter a number x : \"))\n",
    "z = int(input(\"Enter a number y : \"))\n",
    "if (x > z):\n",
    "    max = x\n",
    "else:\n",
    "    max = x\n",
    "\n",
    "while (True):\n",
    "    if (x % max == 0 and z % max == 0):\n",
    "        break\n",
    "    else:\n",
    "        max = max - 1\n",
    "print(max)"
   ]
  },
  {
   "cell_type": "code",
   "execution_count": null,
   "id": "108d36c2",
   "metadata": {},
   "outputs": [],
   "source": [
    "3.\tWrite a Python Program to Convert Decimal to Binary, Octal and Hexadecimal?"
   ]
  },
  {
   "cell_type": "code",
   "execution_count": 15,
   "id": "d1455a8f",
   "metadata": {},
   "outputs": [
    {
     "name": "stdout",
     "output_type": "stream",
     "text": [
      "Enter a number x : 1792\n",
      "0b11100000000 in binary.\n",
      "0o3400 in Octal.\n",
      "0x700 in Hexadecimal.\n"
     ]
    }
   ],
   "source": [
    "x = int(input(\"Enter a number x : \"))\n",
    "print(bin(x), \"is binary.\")\n",
    "print(oct(x), \"is Octal.\")\n",
    "print(hex(x), \"is Hexadecimal.\")"
   ]
  },
  {
   "cell_type": "code",
   "execution_count": null,
   "id": "0beab0c5",
   "metadata": {},
   "outputs": [],
   "source": [
    "4.\tWrite a Python Program To Find ASCII value of a character?"
   ]
  },
  {
   "cell_type": "code",
   "execution_count": 21,
   "id": "a5459b80",
   "metadata": {},
   "outputs": [
    {
     "name": "stdout",
     "output_type": "stream",
     "text": [
      "Enter a character : p\n",
      "The ASCII value of 'p' is 112\n"
     ]
    }
   ],
   "source": [
    "x = input(\"Enter a character : \")\n",
    "p=ord(x)\n",
    "print(\"The ASCII value of '\" + x + \"' is\", p)"
   ]
  },
  {
   "cell_type": "code",
   "execution_count": null,
   "id": "bcdcde0a",
   "metadata": {},
   "outputs": [],
   "source": [
    "5.\tWrite a Python Program to Make a Simple Calculator with 4 basic mathematical operations?"
   ]
  },
  {
   "cell_type": "code",
   "execution_count": 25,
   "id": "df5934a8",
   "metadata": {},
   "outputs": [],
   "source": [
    "# Function to subtract two numbers\n",
    "def add(x, z):\n",
    "    return x + z\n",
    "  \n",
    "# Function to subtract two numbers \n",
    "def subtract(x, z):\n",
    "    return x - z\n",
    "  \n",
    "# Function to multiply two numbers\n",
    "def multiply(x, z):\n",
    "    return x * z\n",
    "  \n",
    "# Function to divide two numbers\n",
    "def divide(x, z):\n",
    "    return x / z"
   ]
  },
  {
   "cell_type": "code",
   "execution_count": 27,
   "id": "aaa4a6ef",
   "metadata": {},
   "outputs": [
    {
     "data": {
      "text/plain": [
       "26"
      ]
     },
     "execution_count": 27,
     "metadata": {},
     "output_type": "execute_result"
    }
   ],
   "source": [
    "add(14,12)"
   ]
  },
  {
   "cell_type": "code",
   "execution_count": 28,
   "id": "2661d1ed",
   "metadata": {},
   "outputs": [
    {
     "data": {
      "text/plain": [
       "2"
      ]
     },
     "execution_count": 28,
     "metadata": {},
     "output_type": "execute_result"
    }
   ],
   "source": [
    "subtract(14,12)"
   ]
  },
  {
   "cell_type": "code",
   "execution_count": 29,
   "id": "18da39ed",
   "metadata": {},
   "outputs": [
    {
     "data": {
      "text/plain": [
       "168"
      ]
     },
     "execution_count": 29,
     "metadata": {},
     "output_type": "execute_result"
    }
   ],
   "source": [
    "multiply(14,12)"
   ]
  },
  {
   "cell_type": "code",
   "execution_count": 30,
   "id": "30608100",
   "metadata": {},
   "outputs": [
    {
     "data": {
      "text/plain": [
       "1.1666666666666667"
      ]
     },
     "execution_count": 30,
     "metadata": {},
     "output_type": "execute_result"
    }
   ],
   "source": [
    "divide(14,12)"
   ]
  },
  {
   "cell_type": "code",
   "execution_count": null,
   "id": "67ecbbd4",
   "metadata": {},
   "outputs": [],
   "source": []
  }
 ],
 "metadata": {
  "kernelspec": {
   "display_name": "Python 3",
   "language": "python",
   "name": "python3"
  },
  "language_info": {
   "codemirror_mode": {
    "name": "ipython",
    "version": 3
   },
   "file_extension": ".py",
   "mimetype": "text/x-python",
   "name": "python",
   "nbconvert_exporter": "python",
   "pygments_lexer": "ipython3",
   "version": "3.8.8"
  }
 },
 "nbformat": 4,
 "nbformat_minor": 5
}
